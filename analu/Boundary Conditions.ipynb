{
 "cells": [
  {
   "cell_type": "code",
   "execution_count": 1,
   "metadata": {},
   "outputs": [],
   "source": [
    "import numpy as np\n",
    "import matplotlib.pyplot as plt"
   ]
  },
  {
   "cell_type": "markdown",
   "metadata": {},
   "source": [
    "# Condições de contorno\n",
    "Kim pag 204\n",
    "- Condições matemáticas que serão adicionadas ao código\n",
    "\n",
    "- No-flux (não usada):\n",
    "    - A velocidade na superfície de colisão não pode ter componente normal, apenas componetente paralela. \n",
    "      Matemáticamente expresso como:  $\\mathbf{u} \\cdot \\mathbf{n} = 0$\n",
    "\n",
    "- No-slip (Condição de não deslizamento): \n",
    "    - Descreve o comportamento da componente tangencial do fluido\n",
    "    - Assume que a velocidade na interface fluido sólido é 0, ou seja, zera na direção que bate na borda\n",
    "    - To implement the no-slip condition, we can assign collider’s velocity to the grid points at and within the collider \n",
    "      boundary. (não entendi - ghost cells??)\n",
    "- Free-slip (não usada):\n",
    "    - Permite ao fluido se mover livremente sobre as direções tangenciais a colisão\n",
    "    (não é isso que estamos fazendo)?\n",
    "    \n",
    " - Neumman: \n",
    "     - Fixa a derivada daquele ponto em relação a normal\n",
    "       $ \\frac{\\partial f}{\\partial n} = c$ , para a nossa simulação $c = 0$\n",
    "       \n",
    "     - Quando c é 0, sabemos que as bordas tem um valor fixo, pois a derivada de uma constante é 0\n",
    "     - A condição de no-flux pode ser considerada um subconjunto da condição de Neumman\n",
    "     \n",
    " - Dirichlet (não usada): \n",
    "     - Fixa a função daquele ponto, e não a sua derivada\n",
    "     - Quando a função é a função nula, é igual a condição no-flux\n",
    "     \n",
    "\n",
    "## Velocidade \n",
    "- Campo de valocidade: vetorial\n",
    "- Neumman: passa o valor negativo para dar 0 quando formos fazer a df\n",
    "\n",
    "## Pressão\n",
    " - Campo de pressão: escalar \n",
    " - Dirichlet: copia o valor, da 0 na parede quando fazemos a df\n",
    "     \n",
    "Before the advection, the code first copies the current velocity field and\n",
    "lets the advection solver write the new values to the original velocity grid."
   ]
  },
  {
   "cell_type": "code",
   "execution_count": 4,
   "metadata": {},
   "outputs": [],
   "source": [
    "def create_Grid(n,sorted):\n",
    "    x = np.random.randint(0, 10, n) \n",
    "    y = np.random.randint(0, 10, n)\n",
    "    if sorted == 1:\n",
    "        x = np.sort(x)\n",
    "        y = np.sort(y)\n",
    "    grid = np.meshgrid(x,y)\n",
    "    X = grid[0]\n",
    "    Y = grid[1]\n",
    "    Z = X + Y\n",
    "    return Z\n",
    "\n",
    "def plot_Grid(Z, title):    \n",
    "    plt.imshow(Z, origin='lower')\n",
    "    plt.xlabel('i', fontsize=18)\n",
    "    plt.ylabel('j', fontsize=18)\n",
    "    plt.title(title)\n",
    "    plt.colorbar()\n",
    "    plt.show(True)\n",
    "    return"
   ]
  },
  {
   "cell_type": "code",
   "execution_count": 5,
   "metadata": {},
   "outputs": [],
   "source": [
    "def set_bnd(b, Z): # altera a velocidade em u, v (velocidade) e pressão\n",
    "    '''N = len grid\n",
    "        b = 1 -> velocidade \n",
    "        b = 2 -> pressão'''\n",
    "    N = len(Z[0]) - 1    \n",
    "    print(Z)\n",
    "    if b == 1: # Neumman - repete negativo na horizontal (v)\n",
    "        Z[0, 1: -1] = - Z[1,1: -1]\n",
    "        Z[-1, 1:-1] = - Z[N, 1: -1]\n",
    "#         print(\"u -> x\")\n",
    "        print(\"horizontal\")\n",
    "    else: # Pressão: copia o valor\n",
    "        Z[0, 1:-1] = Z[1, 1:-1]\n",
    "        Z[-1, 1:-1] = Z[N, 1:-1]\n",
    "        print(\"pressão\")\n",
    "    if b == 2: \n",
    "        Z[1:-1,  0] = -Z[1:-1, 1]\n",
    "        Z[1:-1, -1] = -Z[1:-1, N]\n",
    "#          print(\"v -> y\")\n",
    "        print(\"vertical\")\n",
    "    else:\n",
    "        Z[1:-1,  0] = Z[1:-1, 1]\n",
    "        Z[1:-1, -1] = Z[1:-1, N]\n",
    "       \n",
    "\n",
    "    Z[ 0,  0] = 0.5 * (Z[1,  0] + Z[ 0, 1])\n",
    "    Z[ 0, -1] = 0.5 * (Z[1, -1] + Z[ 0, N])\n",
    "    Z[-1,  0] = 0.5 * (Z[N,  0] + Z[-1, 1])\n",
    "    Z[-1, -1] = 0.5 * (Z[N, -1] + Z[-1, N])\n",
    "    \n",
    "    return Z"
   ]
  },
  {
   "cell_type": "code",
   "execution_count": 12,
   "metadata": {},
   "outputs": [
    {
     "name": "stdout",
     "output_type": "stream",
     "text": [
      "[[  3   3  10  10  10   3   9   9   7  -3]\n",
      " [  3   3  10  10  10   3   9   9   7  -7]\n",
      " [  9   9  16  16  16   9  15  15  13 -13]\n",
      " [  4   4  11  11  11   4  10  10   8  -8]\n",
      " [  3   3  10  10  10   3   9   9   7  -7]\n",
      " [ 11  11  18  18  18  11  17  17  15 -15]\n",
      " [  2   2   9   9   9   2   8   8   6  -6]\n",
      " [ 10  10  17  17  17  10  16  16  14 -14]\n",
      " [  7   7  14  14  14   7  13  13  11 -11]\n",
      " [ -6  -9 -16 -16 -16  -9 -15 -15 -13  13]]\n",
      "horizontal\n"
     ]
    },
    {
     "data": {
      "image/png": "[encoded data removed]",
      "text/plain": [
       "<Figure size 432x288 with 2 Axes>"
      ]
     },
     "metadata": {
      "needs_background": "light"
     },
     "output_type": "display_data"
    }
   ],
   "source": [
    "Z = set_bnd(1, Z)\n",
    "plot_Grid(Z, \"u | velocidade\")"
   ]
  },
  {
   "cell_type": "code",
   "execution_count": 13,
   "metadata": {},
   "outputs": [
    {
     "name": "stdout",
     "output_type": "stream",
     "text": [
      "[[  0  -3 -10 -10 -10  -3  -9  -9  -7  -5]\n",
      " [  3   3  10  10  10   3   9   9   7  -7]\n",
      " [  9   9  16  16  16   9  15  15  13 -13]\n",
      " [  4   4  11  11  11   4  10  10   8  -8]\n",
      " [  3   3  10  10  10   3   9   9   7  -7]\n",
      " [ 11  11  18  18  18  11  17  17  15 -15]\n",
      " [  2   2   9   9   9   2   8   8   6  -6]\n",
      " [ 10  10  17  17  17  10  16  16  14 -14]\n",
      " [  7   7  14  14  14   7  13  13  11 -11]\n",
      " [  1   9  16  16  16   9  15  15  13  13]]\n",
      "pressão\n",
      "vertical\n"
     ]
    },
    {
     "data": {
      "image/png": "[encoded data removed]",
      "text/plain": [
       "<Figure size 432x288 with 2 Axes>"
      ]
     },
     "metadata": {
      "needs_background": "light"
     },
     "output_type": "display_data"
    }
   ],
   "source": [
    "Z = set_bnd(2,Z)\n",
    "plot_Grid(Z,\"v | velocidade\")"
   ]
  },
  {
   "cell_type": "code",
   "execution_count": 15,
   "metadata": {},
   "outputs": [
    {
     "name": "stdout",
     "output_type": "stream",
     "text": [
      "[[ 3  3 10 10 10  3  9  9  7  4]\n",
      " [ 3  3 10 10 10  3  9  9  7  7]\n",
      " [ 9  9 16 16 16  9 15 15 13 13]\n",
      " [ 4  4 11 11 11  4 10 10  8  8]\n",
      " [ 3  3 10 10 10  3  9  9  7  7]\n",
      " [11 11 18 18 18 11 17 17 15 15]\n",
      " [ 2  2  9  9  9  2  8  8  6  6]\n",
      " [10 10 17 17 17 10 16 16 14 14]\n",
      " [ 7  7 14 14 14  7 13 13 11 11]\n",
      " [ 7  9 16 16 16  9 15 15 13 13]]\n",
      "pressão\n"
     ]
    },
    {
     "data": {
      "image/png": "[encoded data removed]",
      "text/plain": [
       "<Figure size 432x288 with 2 Axes>"
      ]
     },
     "metadata": {
      "needs_background": "light"
     },
     "output_type": "display_data"
    }
   ],
   "source": [
    "Z = set_bnd(0,Z)\n",
    "plot_Grid(Z,\"Pressão\")"
   ]
  }
 ],
 "metadata": {
  "kernelspec": {
   "display_name": "Python 3",
   "language": "python",
   "name": "python3"
  },
  "language_info": {
   "codemirror_mode": {
    "name": "ipython",
    "version": 3
   },
   "file_extension": ".py",
   "mimetype": "text/x-python",
   "name": "python",
   "nbconvert_exporter": "python",
   "pygments_lexer": "ipython3",
   "version": "3.7.6"
  }
 },
 "nbformat": 4,
 "nbformat_minor": 4
}
