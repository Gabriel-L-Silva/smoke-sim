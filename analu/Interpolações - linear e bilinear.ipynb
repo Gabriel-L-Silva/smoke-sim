{
 "cells": [
  {
   "cell_type": "markdown",
   "metadata": {},
   "source": [
    "#   Interpolação de  Catmull-Rom "
   ]
  },
  {
   "cell_type": "code",
   "execution_count": 1,
   "metadata": {},
   "outputs": [],
   "source": [
    "import numpy as np\n",
    "import matplotlib.pyplot as plt\n",
    "from pprint import pprint"
   ]
  },
  {
   "cell_type": "code",
   "execution_count": 345,
   "metadata": {},
   "outputs": [
    {
     "name": "stdout",
     "output_type": "stream",
     "text": [
      "[[    0     1     4     9    16    25    36    49    64    81   100   121]\n",
      " [  144   169   196   225   256   289   324   361   400   441   484   529]\n",
      " [  576   625   676   729   784   841   900   961  1024  1089  1156  1225]\n",
      " [ 1296  1369  1444  1521  1600  1681  1764  1849  1936  2025  2116  2209]\n",
      " [ 2304  2401  2500  2601  2704  2809  2916  3025  3136  3249  3364  3481]\n",
      " [ 3600  3721  3844  3969  4096  4225  4356  4489  4624  4761  4900  5041]\n",
      " [ 5184  5329  5476  5625  5776  5929  6084  6241  6400  6561  6724  6889]\n",
      " [ 7056  7225  7396  7569  7744  7921  8100  8281  8464  8649  8836  9025]\n",
      " [ 9216  9409  9604  9801 10000 10201 10404 10609 10816 11025 11236 11449]\n",
      " [11664 11881 12100 12321 12544 12769 12996 13225 13456 13689 13924 14161]\n",
      " [14400 14641 14884 15129 15376 15625 15876 16129 16384 16641 16900 17161]\n",
      " [17424 17689 17956 18225 18496 18769 19044 19321 19600 19881 20164 20449]]\n"
     ]
    }
   ],
   "source": [
    "N = 12\n",
    "M = 12\n",
    "\n",
    "def func(x):\n",
    "    return x**2\n",
    "\n",
    "linha = np.array ([func(x) for x in range(N*M)])\n",
    "\n",
    "#creating a 2D grid\n",
    "grid = np.reshape(linha,(N, M))\n",
    "print(grid)"
   ]
  },
  {
   "cell_type": "markdown",
   "metadata": {},
   "source": [
    "### Interpolação 1D - funcionando"
   ]
  },
  {
   "cell_type": "code",
   "execution_count": 250,
   "metadata": {},
   "outputs": [],
   "source": [
    "\n",
    "def get_neighbors(l, p):\n",
    "    '''pegando os vizinhos'''\n",
    "    if np.floor(p) == 0:\n",
    "        f0 = 0\n",
    "        f1 = 0\n",
    "        f2 = 1\n",
    "        f3 = 2\n",
    "    elif np.floor(p) == 1:\n",
    "        f0 = 0\n",
    "        f1 = 1\n",
    "        f2 = 1\n",
    "        f3 = 2\n",
    "    elif np.floor(p) == len(l) - 2:  #np.floor(p) == 1 ---- mesmo caso\n",
    "        f0 = len(l) - 3\n",
    "        f1 = len(l) - 2\n",
    "        f2 = len(l) - 2\n",
    "        f3 = len(l) - 1\n",
    "    elif np.floor(p) == len(l) - 1: #np.floor(p) == 0 ---- mesmo caso \n",
    "        f0 = len(l) - 1\n",
    "        f1 = len(l) - 1\n",
    "        f2 = len(l) - 2\n",
    "        f3 = len(l) - 3\n",
    "    else:  \n",
    "        f1 = int(np.floor(p)) \n",
    "        f0 = f1 - 1\n",
    "        f2 = f1 + 1\n",
    "        f3 = f1 + 2\n",
    "      \n",
    "    # print('l0 ', l[f0])\n",
    "    # print('l1 ', l[f1])\n",
    "    # print('l2 ', l[f2])\n",
    "    # print('l3 ', l[f3])\n",
    "\n",
    "    return l[f0], l[f1], l[f2], l[f3]"
   ]
  },
  {
   "cell_type": "code",
   "execution_count": 240,
   "metadata": {},
   "outputs": [],
   "source": [
    "'''normalizando o grid'''\n",
    "def normalize(g, p):\n",
    "    return (p - min(g)) / (max(g) - min(g)) \n",
    "\n",
    "'''interpolação em 1D'''\n",
    "def interp_1D(g, p):\n",
    "    f0, f1, f2, f3 = get_neighbors(g, p)\n",
    "\n",
    "    f = normalize(g, p)\n",
    "\n",
    "    d1 = (f2 - f0) / 2 \n",
    "    d2 = (f3 - f1) / 2 \n",
    "\n",
    "    D = f2 - f1 \n",
    "\n",
    "    a3 = d1 + d2 - 2 * D\n",
    "    a2 = 3 * D - 2 * d1 - d2\n",
    "    a1 = d1\n",
    "    a0 = f1\n",
    "\n",
    "    # print('a0 ', a0)\n",
    "    # print('a1 ', a1)\n",
    "    # print('a2 ', a2)\n",
    "    # print('a3 ', a3)\n",
    "\n",
    "    return a3*f**3 + a2*f**2 + a1*f + a0"
   ]
  },
  {
   "cell_type": "markdown",
   "metadata": {},
   "source": [
    "### Interpolação em 2D - ALTERADA\n",
    "- pesos alterados"
   ]
  },
  {
   "cell_type": "code",
   "execution_count": 355,
   "metadata": {},
   "outputs": [],
   "source": [
    "#função alterarda\n",
    "def interp_2D_teste(grid, x, y, point):\n",
    "\n",
    "    # nc = len(grid) # y - colunas\n",
    "    # nl = len(grid[0]) # x - linhas\n",
    "\n",
    "    #pegando os vizinhos em 2D\n",
    "    if y == 0:\n",
    "        f0 = interp_1D(grid[0], p)\n",
    "        f1 = interp_1D(grid[0], p)\n",
    "        f2 = interp_1D(grid[1], p+1)\n",
    "        f3 = interp_1D(grid[2], p+1)\n",
    "    elif y == 1: \n",
    "        f0 = interp_1D(grid[0], p)\n",
    "        f1 = interp_1D(grid[1], p+1)\n",
    "        f2 = interp_1D(grid[1], p+1)\n",
    "        f3 = interp_1D(grid[2], p+2)\n",
    "    elif  y == len(grid[0]) - 2:\n",
    "        f0 = interp_1D(grid[y - 3], p-3)\n",
    "        f1 = interp_1D(grid[y - 2], p-2)\n",
    "        f2 = interp_1D(grid[y - 2], p-2)\n",
    "        f3 = interp_1D(grid[y - 1], p-1)\n",
    "    elif  y ==  len(grid[0]) - 2:\n",
    "        f0 = interp_1D(grid[y - 1], p-1)\n",
    "        f1 = interp_1D(grid[y - 1], p-1)\n",
    "        f2 = interp_1D(grid[y - 2], p-2)\n",
    "        f3 = interp_1D(grid[y - 3], p-3)\n",
    "    else:\n",
    "        f1 = interp_1D(grid[y], np.floor(p))\n",
    "        f0 = interp_1D(grid[y-1], np.floor(p-1))\n",
    "        f2 = interp_1D(grid[y+1], np.floor(p+1))\n",
    "        f3 = interp_1D(grid[y+2], np.floor(p+2))\n",
    "\n",
    "    f = normalize(grid[0], p) \n",
    "\n",
    "    d1 = (f2 - f0) / 2 \n",
    "    d2 = (f3 - f1) / 2 \n",
    "\n",
    "    D = f2 - f1 \n",
    "\n",
    "    a3 = d1 + d2 - 2*D\n",
    "    a2 = 3 * D - 2 * d1 - d2\n",
    "    a1 = d1\n",
    "    a0 = f1\n",
    "\n",
    "    return a3*f**3 + a2*f**2 + a1*f + a0"
   ]
  },
  {
   "cell_type": "markdown",
   "metadata": {},
   "source": [
    "### Interpolação 2D - 1º tentativa"
   ]
  },
  {
   "cell_type": "code",
   "execution_count": 204,
   "metadata": {},
   "outputs": [],
   "source": [
    "#nao funciona ainda\n",
    "def interp_2D(grid, x, y, point):\n",
    "\n",
    "\n",
    "    #pegando os vizinhos em 2D\n",
    "    f0 = interp_1D(grid[x-2], p-2)\n",
    "    f1 = interp_1D(grid[x-1], p-1)\n",
    "    f2 = interp_1D(grid[x+1], p+1)\n",
    "    f3 = interp_1D(grid[x+2], p+2)\n",
    "\n",
    "    f = normalize(grid[0], p) \n",
    "\n",
    "    d1 = (f2 - f0) / 2 \n",
    "    d2 = (f3 - f1) / 2 \n",
    "\n",
    "    D = f2 - f1 \n",
    "\n",
    "    a3 = d1 + d2 - 2*D\n",
    "    a2 = 3 * D - 2 * d1 - d2\n",
    "    a1 = d1\n",
    "    a0 = f1\n",
    "\n",
    "    # print('a0 ', a0)\n",
    "    # print('a1 ', a1)\n",
    "    # print('a2 ', a2)\n",
    "    # print('a3 ', a3)\n",
    "\n",
    "    return a3*f**3 + a2*f**2 + a1*f + a0"
   ]
  },
  {
   "cell_type": "markdown",
   "metadata": {},
   "source": [
    "# Testando as interpolações"
   ]
  },
  {
   "cell_type": "code",
   "execution_count": 352,
   "metadata": {},
   "outputs": [
    {
     "name": "stdout",
     "output_type": "stream",
     "text": [
      "pos do grid 0\n",
      "1d: 16.265555631445938\n",
      "2d: 20.719059681714043\n"
     ]
    }
   ],
   "source": [
    "p = 4\n",
    "x = 0\n",
    "y = 0\n",
    "print(\"pos do grid \" + str(grid[x][y]))\n",
    "print(\"1d: \" + str(interp_1D(grid[x], p)))\n",
    "print(\"2d: \" + str(interp_2D_teste(grid, x, y, p))) # para 2 D, 2 vezes em x pra cima e 2 pra baixo"
   ]
  },
  {
   "cell_type": "code",
   "execution_count": 336,
   "metadata": {},
   "outputs": [
    {
     "data": {
      "text/plain": [
       "[<matplotlib.lines.Line2D at 0x24c93605b08>]"
      ]
     },
     "execution_count": 336,
     "metadata": {},
     "output_type": "execute_result"
    },
    {
     "data": {
      "image/png": "[encoded data removed]",
      "text/plain": [
       "<Figure size 432x288 with 1 Axes>"
      ]
     },
     "metadata": {
      "needs_background": "light"
     },
     "output_type": "display_data"
    }
   ],
   "source": [
    "x = np.arange(11)\n",
    "y = []\n",
    "p = 0\n",
    "for i in range(11):\n",
    "    y.append(interp_1D(grid[0], p))\n",
    "    p = p+1\n",
    "plt.title(\"Interpolação 1D\")\n",
    "plt.plot(x,y)"
   ]
  },
  {
   "cell_type": "markdown",
   "metadata": {},
   "source": [
    "# VISUALIZAÇÃO LINDAAAAA\n",
    "### plotar todos os gráficos juntos, mapa de altura"
   ]
  },
  {
   "cell_type": "code",
   "execution_count": 333,
   "metadata": {},
   "outputs": [
    {
     "data": {
      "text/plain": [
       "Text(0.5, 1.0, 'Forma da função')"
      ]
     },
     "execution_count": 333,
     "metadata": {},
     "output_type": "execute_result"
    },
    {
     "data": {
      "image/png": "[encoded data removed]",
      "text/plain": [
       "<Figure size 432x288 with 1 Axes>"
      ]
     },
     "metadata": {
      "needs_background": "light"
     },
     "output_type": "display_data"
    }
   ],
   "source": [
    "eixox = np.array([i for i in range(120)])\n",
    "linha  = np.array([j**2 for j in range(120)])\n",
    "plt.plot(eixox, linha)\n",
    "plt.title(\"Forma da função\")"
   ]
  },
  {
   "cell_type": "code",
   "execution_count": 354,
   "metadata": {},
   "outputs": [
    {
     "ename": "ValueError",
     "evalue": "The truth value of an array with more than one element is ambiguous. Use a.any() or a.all()",
     "output_type": "error",
     "traceback": [
      "\u001b[1;31m---------------------------------------------------------------------------\u001b[0m",
      "\u001b[1;31mValueError\u001b[0m                                Traceback (most recent call last)",
      "\u001b[1;32m<ipython-input-354-cda41663603f>\u001b[0m in \u001b[0;36m<module>\u001b[1;34m\u001b[0m\n\u001b[0;32m      5\u001b[0m \u001b[0mp\u001b[0m \u001b[1;33m=\u001b[0m \u001b[1;33m[\u001b[0m\u001b[1;36m0.2\u001b[0m\u001b[1;33m,\u001b[0m \u001b[1;36m3\u001b[0m\u001b[1;33m,\u001b[0m \u001b[1;36m4\u001b[0m\u001b[1;33m,\u001b[0m \u001b[1;36m5\u001b[0m\u001b[1;33m,\u001b[0m \u001b[1;36m6\u001b[0m\u001b[1;33m,\u001b[0m \u001b[1;36m7\u001b[0m\u001b[1;33m,\u001b[0m \u001b[1;36m8.5\u001b[0m\u001b[1;33m,\u001b[0m \u001b[1;36m9\u001b[0m\u001b[1;33m,\u001b[0m \u001b[1;36m10\u001b[0m\u001b[1;33m,\u001b[0m \u001b[1;36m10.4\u001b[0m\u001b[1;33m]\u001b[0m\u001b[1;33m\u001b[0m\u001b[1;33m\u001b[0m\u001b[0m\n\u001b[0;32m      6\u001b[0m \u001b[1;32mfor\u001b[0m \u001b[0mi\u001b[0m \u001b[1;32min\u001b[0m \u001b[0mrange\u001b[0m\u001b[1;33m(\u001b[0m\u001b[1;36m12\u001b[0m\u001b[1;33m)\u001b[0m\u001b[1;33m:\u001b[0m\u001b[1;33m\u001b[0m\u001b[1;33m\u001b[0m\u001b[0m\n\u001b[1;32m----> 7\u001b[1;33m     \u001b[0my\u001b[0m\u001b[1;33m.\u001b[0m\u001b[0mappend\u001b[0m\u001b[1;33m(\u001b[0m\u001b[0minterp_2D_teste\u001b[0m\u001b[1;33m(\u001b[0m\u001b[0mgrid\u001b[0m\u001b[1;33m,\u001b[0m\u001b[0mi\u001b[0m\u001b[1;33m,\u001b[0m\u001b[0mi\u001b[0m\u001b[1;33m,\u001b[0m\u001b[0mp\u001b[0m\u001b[1;33m[\u001b[0m\u001b[0mi\u001b[0m\u001b[1;33m]\u001b[0m\u001b[1;33m)\u001b[0m\u001b[1;33m)\u001b[0m\u001b[1;33m\u001b[0m\u001b[1;33m\u001b[0m\u001b[0m\n\u001b[0m\u001b[0;32m      8\u001b[0m \u001b[0mplt\u001b[0m\u001b[1;33m.\u001b[0m\u001b[0mplot\u001b[0m\u001b[1;33m(\u001b[0m\u001b[0mx\u001b[0m\u001b[1;33m,\u001b[0m\u001b[0my\u001b[0m\u001b[1;33m)\u001b[0m\u001b[1;33m\u001b[0m\u001b[1;33m\u001b[0m\u001b[0m\n",
      "\u001b[1;32m<ipython-input-350-3f6311b30d82>\u001b[0m in \u001b[0;36minterp_2D_teste\u001b[1;34m(grid, x, y, point)\u001b[0m\n\u001b[0;32m      7\u001b[0m     \u001b[1;31m#pegando os vizinhos em 2D\u001b[0m\u001b[1;33m\u001b[0m\u001b[1;33m\u001b[0m\u001b[1;33m\u001b[0m\u001b[0m\n\u001b[0;32m      8\u001b[0m     \u001b[1;32mif\u001b[0m \u001b[0my\u001b[0m \u001b[1;33m==\u001b[0m \u001b[1;36m0\u001b[0m\u001b[1;33m:\u001b[0m\u001b[1;33m\u001b[0m\u001b[1;33m\u001b[0m\u001b[0m\n\u001b[1;32m----> 9\u001b[1;33m         \u001b[0mf0\u001b[0m \u001b[1;33m=\u001b[0m \u001b[0minterp_1D\u001b[0m\u001b[1;33m(\u001b[0m\u001b[0mgrid\u001b[0m\u001b[1;33m[\u001b[0m\u001b[1;36m0\u001b[0m\u001b[1;33m]\u001b[0m\u001b[1;33m,\u001b[0m \u001b[0mp\u001b[0m\u001b[1;33m)\u001b[0m\u001b[1;33m\u001b[0m\u001b[1;33m\u001b[0m\u001b[0m\n\u001b[0m\u001b[0;32m     10\u001b[0m         \u001b[0mf1\u001b[0m \u001b[1;33m=\u001b[0m \u001b[0minterp_1D\u001b[0m\u001b[1;33m(\u001b[0m\u001b[0mgrid\u001b[0m\u001b[1;33m[\u001b[0m\u001b[1;36m0\u001b[0m\u001b[1;33m]\u001b[0m\u001b[1;33m,\u001b[0m \u001b[0mp\u001b[0m\u001b[1;33m)\u001b[0m\u001b[1;33m\u001b[0m\u001b[1;33m\u001b[0m\u001b[0m\n\u001b[0;32m     11\u001b[0m         \u001b[0mf2\u001b[0m \u001b[1;33m=\u001b[0m \u001b[0minterp_1D\u001b[0m\u001b[1;33m(\u001b[0m\u001b[0mgrid\u001b[0m\u001b[1;33m[\u001b[0m\u001b[1;36m1\u001b[0m\u001b[1;33m]\u001b[0m\u001b[1;33m,\u001b[0m \u001b[0mp\u001b[0m\u001b[1;33m+\u001b[0m\u001b[1;36m1\u001b[0m\u001b[1;33m)\u001b[0m\u001b[1;33m\u001b[0m\u001b[1;33m\u001b[0m\u001b[0m\n",
      "\u001b[1;32m<ipython-input-240-705340747004>\u001b[0m in \u001b[0;36minterp_1D\u001b[1;34m(g, p)\u001b[0m\n\u001b[0;32m      5\u001b[0m \u001b[1;34m'''interpolação em 1D'''\u001b[0m\u001b[1;33m\u001b[0m\u001b[1;33m\u001b[0m\u001b[0m\n\u001b[0;32m      6\u001b[0m \u001b[1;32mdef\u001b[0m \u001b[0minterp_1D\u001b[0m\u001b[1;33m(\u001b[0m\u001b[0mg\u001b[0m\u001b[1;33m,\u001b[0m \u001b[0mp\u001b[0m\u001b[1;33m)\u001b[0m\u001b[1;33m:\u001b[0m\u001b[1;33m\u001b[0m\u001b[1;33m\u001b[0m\u001b[0m\n\u001b[1;32m----> 7\u001b[1;33m     \u001b[0mf0\u001b[0m\u001b[1;33m,\u001b[0m \u001b[0mf1\u001b[0m\u001b[1;33m,\u001b[0m \u001b[0mf2\u001b[0m\u001b[1;33m,\u001b[0m \u001b[0mf3\u001b[0m \u001b[1;33m=\u001b[0m \u001b[0mget_neighbors\u001b[0m\u001b[1;33m(\u001b[0m\u001b[0mg\u001b[0m\u001b[1;33m,\u001b[0m \u001b[0mp\u001b[0m\u001b[1;33m)\u001b[0m\u001b[1;33m\u001b[0m\u001b[1;33m\u001b[0m\u001b[0m\n\u001b[0m\u001b[0;32m      8\u001b[0m \u001b[1;33m\u001b[0m\u001b[0m\n\u001b[0;32m      9\u001b[0m     \u001b[0mf\u001b[0m \u001b[1;33m=\u001b[0m \u001b[0mnormalize\u001b[0m\u001b[1;33m(\u001b[0m\u001b[0mg\u001b[0m\u001b[1;33m,\u001b[0m \u001b[0mp\u001b[0m\u001b[1;33m)\u001b[0m\u001b[1;33m\u001b[0m\u001b[1;33m\u001b[0m\u001b[0m\n",
      "\u001b[1;32m<ipython-input-250-b521fc69251e>\u001b[0m in \u001b[0;36mget_neighbors\u001b[1;34m(l, p)\u001b[0m\n\u001b[0;32m      1\u001b[0m \u001b[1;34m'''pegando os vizinhos'''\u001b[0m\u001b[1;33m\u001b[0m\u001b[1;33m\u001b[0m\u001b[0m\n\u001b[0;32m      2\u001b[0m \u001b[1;32mdef\u001b[0m \u001b[0mget_neighbors\u001b[0m\u001b[1;33m(\u001b[0m\u001b[0ml\u001b[0m\u001b[1;33m,\u001b[0m \u001b[0mp\u001b[0m\u001b[1;33m)\u001b[0m\u001b[1;33m:\u001b[0m \u001b[1;31m#posso alterar o peso dessa maneira???\u001b[0m\u001b[1;33m\u001b[0m\u001b[1;33m\u001b[0m\u001b[0m\n\u001b[1;32m----> 3\u001b[1;33m     \u001b[1;32mif\u001b[0m \u001b[0mnp\u001b[0m\u001b[1;33m.\u001b[0m\u001b[0mfloor\u001b[0m\u001b[1;33m(\u001b[0m\u001b[0mp\u001b[0m\u001b[1;33m)\u001b[0m \u001b[1;33m==\u001b[0m \u001b[1;36m0\u001b[0m\u001b[1;33m:\u001b[0m\u001b[1;33m\u001b[0m\u001b[1;33m\u001b[0m\u001b[0m\n\u001b[0m\u001b[0;32m      4\u001b[0m         \u001b[0mf0\u001b[0m \u001b[1;33m=\u001b[0m \u001b[1;36m0\u001b[0m\u001b[1;33m\u001b[0m\u001b[1;33m\u001b[0m\u001b[0m\n\u001b[0;32m      5\u001b[0m         \u001b[0mf1\u001b[0m \u001b[1;33m=\u001b[0m \u001b[1;36m0\u001b[0m\u001b[1;33m\u001b[0m\u001b[1;33m\u001b[0m\u001b[0m\n",
      "\u001b[1;31mValueError\u001b[0m: The truth value of an array with more than one element is ambiguous. Use a.any() or a.all()"
     ]
    }
   ],
   "source": [
    "x = np.arange(12)\n",
    "y = []\n",
    "i = 0\n",
    "j = 0\n",
    "p = [0.2, 3, 4, 5, 6, 7, 8.5, 9, 10, 10.4]\n",
    "for i in range(12):\n",
    "    y.append(interp_2D_teste(grid,i,i,p[i]))\n",
    "plt.plot(x,y)"
   ]
  },
  {
   "cell_type": "markdown",
   "metadata": {},
   "source": [
    "### Catmull-Rom spline interpolation\n",
    "- spline precisa dos pontos de controle, então passa por todos os pontos dados, é interpolante, não aproximante\n",
    "- interpolação tem que passar por cima dos pontos que voce deu\n",
    "- método interpolante: passa em todos - cravar nos pontos\n",
    "- método aproximante: minimos quadrados - não passa por todos os pontos - não vai achar um polinomio melhor do que aquele com aquele grau "
   ]
  },
  {
   "cell_type": "markdown",
   "metadata": {},
   "source": [
    " "
   ]
  },
  {
   "cell_type": "code",
   "execution_count": null,
   "metadata": {},
   "outputs": [],
   "source": []
  }
 ],
 "metadata": {
  "kernelspec": {
   "display_name": "Python 3",
   "language": "python",
   "name": "python3"
  },
  "language_info": {
   "codemirror_mode": {
    "name": "ipython",
    "version": 3
   },
   "file_extension": ".py",
   "mimetype": "text/x-python",
   "name": "python",
   "nbconvert_exporter": "python",
   "pygments_lexer": "ipython3",
   "version": "3.7.6"
  }
 },
 "nbformat": 4,
 "nbformat_minor": 4
}
