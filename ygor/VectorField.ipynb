{
 "cells": [
  {
   "cell_type": "markdown",
   "id": "c173a0df",
   "metadata": {},
   "source": [
    "# Sampling and Interpolation\n",
    "\n",
    "Primeiro é necessário definir **como** o campo do fluído deve ser coletado e reconstruído via interpolação.\n",
    "\n",
    "Lembrando que:\n",
    "- O campo escalar de pressão é dado por **p**\n",
    "- O campo vetorial de velocidade é dado por **u**\n",
    "- Assume-se que o fluído é incompressível, então o campo de densidade não é coletado"
   ]
  },
  {
   "cell_type": "code",
   "execution_count": null,
   "id": "6b41f821",
   "metadata": {},
   "outputs": [],
   "source": [
    "# importação de bibliotecas a serem usadas\n",
    "\n",
    "import matplotlib.pyplot as plt\n",
    "import numpy as np\n",
    "from scipy import interpolate\n",
    "\n",
    "%matplotlib inline"
   ]
  },
  {
   "cell_type": "markdown",
   "id": "5cb59bfd",
   "metadata": {},
   "source": [
    "## Central Sampling\n",
    "\n",
    "Os campos de pressão e velocidade são colocados no centro do grid.\n"
   ]
  },
  {
   "cell_type": "code",
   "execution_count": null,
   "id": "a9114856",
   "metadata": {},
   "outputs": [],
   "source": [
    "n = 3  # lado\n",
    "d = 2  # dx = dy\n",
    "\n",
    "x = [(i%n)*d for i in range(n*n)]   # [0, 3, 6, 0, 3, 6, 0, 3, 6]\n",
    "y = [i//n*d for i in range(n*n)]    # [0, 0, 0, 3, 3, 3, 6, 6, 6]\n",
    "\n",
    "p = np.random.rand((n-1)*d+1, (n-1)*d+1)\n",
    "u = (np.random.rand(1, n*n)+0.5).tolist()[0]\n",
    "v = (np.random.rand(1, n*n)+0.5).tolist()[0]\n",
    "\n",
    "plt.figure(1)\n",
    "plt.imshow(p, cmap='winter', interpolation='nearest')\n",
    "plt.quiver(x, y, u, v)\n",
    "plt.show()"
   ]
  },
  {
   "cell_type": "code",
   "execution_count": null,
   "id": "db3c9400",
   "metadata": {},
   "outputs": [],
   "source": [
    "x_x = np.linspace(0, (n-1)*d, (n-1)*d+1)\n",
    "y_y = np.linspace(0, (n-1)*d, (n-1)*d+1)\n",
    "x_x, y_y = np.meshgrid(x_x, y_y)\n",
    "\n",
    "points = np.transpose(np.vstack((x, y)))\n",
    "u_interp = interpolate.griddata(points, u, (x_x, y_y), method='linear')\n",
    "v_interp = interpolate.griddata(points, v, (x_x, y_y), method='linear')\n",
    "\n",
    "plt.figure(2)\n",
    "plt.imshow(p, cmap='winter', interpolation='nearest')\n",
    "plt.quiver(x_x, y_y, u_interp, v_interp)\n",
    "plt.show()"
   ]
  },
  {
   "cell_type": "markdown",
   "id": "1d551125",
   "metadata": {},
   "source": [
    "## Staggered grid sampling\n",
    "\n",
    "O campo de pressão fica no centro, porém as componentes da velocidade ficam nas extremidades do grid."
   ]
  },
  {
   "cell_type": "code",
   "execution_count": null,
   "id": "78c4fb37",
   "metadata": {},
   "outputs": [],
   "source": [
    "dv = 0.5\n",
    "\n",
    "xx = [i-dv for i in x] # mas mesmo y\n",
    "yy = [i+dv for i in y] # mas mesmo x\n",
    "\n",
    "# criando u e v para cada um\n",
    "ux = u\n",
    "vx = [0 for _ in range(n*n)]\n",
    "\n",
    "uy = [0 for _ in range(n*n)]\n",
    "vy = v\n",
    "\n",
    "plt.figure(3)\n",
    "plt.imshow(p, cmap='winter', interpolation='nearest')\n",
    "plt.quiver(xx, y, ux, vx)  # x component\n",
    "plt.quiver(x, yy, uy, vy)  # y component\n",
    "plt.show()"
   ]
  },
  {
   "cell_type": "code",
   "execution_count": null,
   "id": "4616f409",
   "metadata": {},
   "outputs": [],
   "source": [
    "# mesh grid para cada um\n",
    "x_x = np.linspace(0-dv, (n-1)*d-dv, (n-1)*d+1)\n",
    "y_x = np.linspace(0, (n-1)*d, (n-1)*d+1)\n",
    "x_x, y_x = np.meshgrid(x_x, y_x)\n",
    "\n",
    "x_y = np.linspace(0, (n-1)*d, (n-1)*d+1)\n",
    "y_y = np.linspace(0+dv, (n-1)*d+dv, (n-1)*d+1)\n",
    "x_y, y_y = np.meshgrid(x_y, y_y)\n",
    "\n",
    "points_x = np.transpose(np.vstack((xx, y)))\n",
    "points_y = np.transpose(np.vstack((x, yy)))\n",
    "\n",
    "ux_interp = interpolate.griddata(points_x, ux, (x_x, y_x), method='linear')\n",
    "vx_interp = interpolate.griddata(points_x, vx, (x_x, y_x), method='linear')\n",
    "\n",
    "uy_interp = interpolate.griddata(points_y, uy, (x_y, y_y), method='linear')\n",
    "vy_interp = interpolate.griddata(points_y, vy, (x_y, y_y), method='linear')\n",
    "\n",
    "plt.figure(4)\n",
    "plt.imshow(p, cmap='winter', interpolation='nearest')\n",
    "plt.quiver(x_x, y_x, ux_interp, vx_interp)  # x component\n",
    "plt.quiver(x_y, y_y, uy_interp, vy_interp)  # y component\n",
    "plt.show()"
   ]
  },
  {
   "cell_type": "code",
   "execution_count": null,
   "id": "77c389b8",
   "metadata": {},
   "outputs": [],
   "source": []
  }
 ],
 "metadata": {
  "kernelspec": {
   "display_name": "Python 3",
   "language": "python",
   "name": "python3"
  },
  "language_info": {
   "codemirror_mode": {
    "name": "ipython",
    "version": 3
   },
   "file_extension": ".py",
   "mimetype": "text/x-python",
   "name": "python",
   "nbconvert_exporter": "python",
   "pygments_lexer": "ipython3",
   "version": "3.8.5"
  }
 },
 "nbformat": 4,
 "nbformat_minor": 5
}
